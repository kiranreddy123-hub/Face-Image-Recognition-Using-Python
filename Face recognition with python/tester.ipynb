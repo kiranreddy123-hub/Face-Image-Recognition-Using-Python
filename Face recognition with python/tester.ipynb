{
 "cells": [
  {
   "cell_type": "code",
   "execution_count": 5,
   "metadata": {},
   "outputs": [
    {
     "name": "stdout",
     "output_type": "stream",
     "text": [
      "Requirement already satisfied: opencv-python in c:\\users\\hp\\appdata\\local\\programs\\python\\python38\\lib\\site-packages (4.5.5.64)\n",
      "Requirement already satisfied: numpy>=1.14.5; python_version >= \"3.7\" in c:\\users\\hp\\appdata\\local\\programs\\python\\python38\\lib\\site-packages (from opencv-python) (1.22.3)\n",
      "Note: you may need to restart the kernel to use updated packages.\n"
     ]
    },
    {
     "name": "stderr",
     "output_type": "stream",
     "text": [
      "WARNING: You are using pip version 20.1.1; however, version 22.0.4 is available.\n",
      "You should consider upgrading via the 'C:\\Users\\HP\\AppData\\Local\\Programs\\Python\\Python38\\python.exe -m pip install --upgrade pip' command.\n"
     ]
    }
   ],
   "source": [
    "pip install opencv-python"
   ]
  },
  {
   "cell_type": "code",
   "execution_count": 9,
   "metadata": {},
   "outputs": [
    {
     "name": "stdout",
     "output_type": "stream",
     "text": [
      "Requirement already satisfied: opencv-contrib-python in c:\\users\\hp\\appdata\\local\\programs\\python\\python38\\lib\\site-packages (4.5.5.64)\n",
      "Requirement already satisfied: numpy>=1.17.3; python_version >= \"3.8\" in c:\\users\\hp\\appdata\\local\\programs\\python\\python38\\lib\\site-packages (from opencv-contrib-python) (1.22.3)\n",
      "Note: you may need to restart the kernel to use updated packages.\n"
     ]
    },
    {
     "name": "stderr",
     "output_type": "stream",
     "text": [
      "WARNING: You are using pip version 20.1.1; however, version 22.0.4 is available.\n",
      "You should consider upgrading via the 'C:\\Users\\HP\\AppData\\Local\\Programs\\Python\\Python38\\python.exe -m pip install --upgrade pip' command.\n"
     ]
    }
   ],
   "source": [
    "pip install opencv-contrib-python"
   ]
  },
  {
   "cell_type": "code",
   "execution_count": 12,
   "metadata": {},
   "outputs": [
    {
     "name": "stdout",
     "output_type": "stream",
     "text": [
      "faces_detected: [[169 130 414 414]]\n",
      "img_path: TrainingImages\\0\\img1.jpg\n",
      "id: 0\n",
      "img_path: TrainingImages\\0\\sample.jpg\n",
      "id: 0\n",
      "img_path: TrainingImages\\0\\WhatsApp Image 2021-11-20 at 7.12.43 PM_11zon.jpg\n",
      "id: 0\n",
      "img_path: TrainingImages\\0\\WIN_20211120_19_46_46_Pro (2).jpg\n",
      "id: 0\n",
      "img_path: TrainingImages\\0\\WIN_20211120_20_14_51_Pro (2).jpg\n",
      "id: 0\n",
      "img_path: TrainingImages\\0\\WIN_20211120_20_35_58_Pro (2).jpg\n",
      "id: 0\n",
      "img_path: TrainingImages\\1\\sample.jpg\n",
      "id: 1\n",
      "img_path: TrainingImages\\1\\WhatsApp Image 2021-11-20 at 6.56.20 PM (1)_11zon.jpg\n",
      "id: 1\n",
      "img_path: TrainingImages\\1\\WhatsApp Image 2021-11-20 at 6.56.20 PM (2)_11zon.jpg\n",
      "id: 1\n",
      "img_path: TrainingImages\\1\\WhatsApp Image 2021-11-20 at 6.56.20 PM_11zon.jpg\n",
      "id: 1\n",
      "img_path: TrainingImages\\1\\WhatsApp Image 2021-11-20 at 6.56.21 PM (1)_11zon.jpg\n",
      "id: 1\n",
      "img_path: TrainingImages\\1\\WhatsApp Image 2021-11-20 at 6.56.21 PM_11zon.jpg\n",
      "id: 1\n",
      "confidence: 36.91988700348551\n",
      "label: 1\n"
     ]
    },
    {
     "data": {
      "text/plain": [
       "<function destroyAllWindows>"
      ]
     },
     "execution_count": 12,
     "metadata": {},
     "output_type": "execute_result"
    }
   ],
   "source": [
    "import cv2\n",
    "import os\n",
    "import numpy as np\n",
    "import facerecognition as fr\n",
    "\n",
    "#This module takes images  stored in diskand performs face recognition\n",
    "test_img=cv2.imread('Testimages/img2.jpg')#test_img path\n",
    "faces_detected,gray_img=fr.faceDetection(test_img)\n",
    "print(\"faces_detected:\",faces_detected)\n",
    "\n",
    "#Comment belows lines when running this program second time.Since it saves training.yml file in directory\n",
    "#run the below code once for training the data and no need run every time.\n",
    "\n",
    "faces,faceID=fr.labels_for_training_data('TrainingImages')\n",
    "recognizer=fr.train_classifier(faces, faceID)\n",
    "recognizer.save('trainingData.yml')\n",
    "\n",
    "#Uncomment below line for subsequent runs\n",
    "recognizer=cv2.face.LBPHFaceRecognizer_create()\n",
    "recognizer.read('trainingData.yml')#use this to load training data for subsequent runs\n",
    "\n",
    "name={0:\"Kiran\",1:\"Anush\"}#creating dictionary containing names for each label\n",
    "\n",
    "for face in faces_detected:\n",
    "    (x,y,w,h)=face\n",
    "    roi_gray=gray_img[y:y+h,x:x+h]\n",
    "    label,confidence=recognizer.predict(roi_gray)#predicting the label of given image\n",
    "    print(\"confidence:\",confidence)\n",
    "    print(\"label:\",label)\n",
    "    fr.draw_rect(test_img,face)\n",
    "    predicted_name=name[label]\n",
    "    if(confidence>38):#If confidence more than 38 then don't print predicted face text on screen\n",
    "        continue\n",
    "    fr.put_text(test_img,predicted_name,x,y)\n",
    "\n",
    "resized_img=cv2.resize(test_img,(500,700))\n",
    "cv2.imshow(\"face dtecetion tutorial\",resized_img)\n",
    "cv2.waitKey(0)#Waits indefinitely until a key is pressed\n",
    "cv2.destroyAllWindows"
   ]
  }
 ],
 "metadata": {
  "interpreter": {
   "hash": "1e915f0a29dc84041eaeb02b7b1a21c440e37a87b61d44d5e84a515737dc82bc"
  },
  "kernelspec": {
   "display_name": "Python 3.8.8 64-bit ('base': conda)",
   "language": "python",
   "name": "python3"
  },
  "language_info": {
   "codemirror_mode": {
    "name": "ipython",
    "version": 3
   },
   "file_extension": ".py",
   "mimetype": "text/x-python",
   "name": "python",
   "nbconvert_exporter": "python",
   "pygments_lexer": "ipython3",
   "version": "3.8.5"
  },
  "orig_nbformat": 4
 },
 "nbformat": 4,
 "nbformat_minor": 2
}
